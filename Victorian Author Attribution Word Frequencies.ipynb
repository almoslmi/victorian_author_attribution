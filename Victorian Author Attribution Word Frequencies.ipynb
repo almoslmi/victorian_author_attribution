{
 "cells": [
  {
   "cell_type": "markdown",
   "metadata": {},
   "source": []
  },
  {
   "cell_type": "code",
   "execution_count": 4,
   "metadata": {},
   "outputs": [],
   "source": [
    "import pandas as pd\n",
    "import nltk\n",
    "import matplotlib.pyplot as plt\n",
    "import seaborn as sns\n",
    "\n",
    "import numpy as np\n",
    "from sklearn import preprocessing, decomposition, model_selection, metrics, pipeline\n",
    "from sklearn.model_selection import GridSearchCV\n",
    "from sklearn.feature_extraction.text import TfidfVectorizer, CountVectorizer\n",
    "\n",
    "\n",
    "from sklearn import metrics\n",
    "\n"
   ]
  },
  {
   "cell_type": "markdown",
   "metadata": {},
   "source": [
    "## Visualise Word Frequencies for Authors"
   ]
  },
  {
   "cell_type": "code",
   "execution_count": 5,
   "metadata": {},
   "outputs": [],
   "source": [
    "file_name = '../data/victorian_author_sample_main_authors_train1.csv'\n",
    "df_train = pd.read_csv(file_name, encoding=\"utf-8\")"
   ]
  },
  {
   "cell_type": "code",
   "execution_count": 6,
   "metadata": {},
   "outputs": [],
   "source": [
    "target_values = df_train['author']"
   ]
  },
  {
   "cell_type": "code",
   "execution_count": 7,
   "metadata": {},
   "outputs": [],
   "source": [
    "uniquevalues = target_values.unique()"
   ]
  },
  {
   "cell_type": "code",
   "execution_count": 8,
   "metadata": {},
   "outputs": [],
   "source": [
    "#lets have a look at some random authors in more detail\n",
    "target_values[0]\n",
    "max_int = target_values.size\n",
    "author1 = df_train[df_train.author == uniquevalues[0]]\n",
    "author2 = df_train[df_train.author == uniquevalues[1]]\n",
    "author3 = df_train[df_train.author == uniquevalues[5]]\n",
    "author4 = df_train[df_train.author == uniquevalues[6]]"
   ]
  },
  {
   "cell_type": "code",
   "execution_count": 9,
   "metadata": {},
   "outputs": [
    {
     "data": {
      "text/html": [
       "<div>\n",
       "<style scoped>\n",
       "    .dataframe tbody tr th:only-of-type {\n",
       "        vertical-align: middle;\n",
       "    }\n",
       "\n",
       "    .dataframe tbody tr th {\n",
       "        vertical-align: top;\n",
       "    }\n",
       "\n",
       "    .dataframe thead th {\n",
       "        text-align: right;\n",
       "    }\n",
       "</style>\n",
       "<table border=\"1\" class=\"dataframe\">\n",
       "  <thead>\n",
       "    <tr style=\"text-align: right;\">\n",
       "      <th></th>\n",
       "      <th>text</th>\n",
       "      <th>author</th>\n",
       "      <th>count</th>\n",
       "    </tr>\n",
       "  </thead>\n",
       "  <tbody>\n",
       "    <tr>\n",
       "      <th>0</th>\n",
       "      <td>towards me and her little fingers round my han...</td>\n",
       "      <td>8</td>\n",
       "      <td>6914</td>\n",
       "    </tr>\n",
       "    <tr>\n",
       "      <th>6</th>\n",
       "      <td>up hill and down in an lock and when it come t...</td>\n",
       "      <td>8</td>\n",
       "      <td>6914</td>\n",
       "    </tr>\n",
       "    <tr>\n",
       "      <th>15</th>\n",
       "      <td>her marriage and that she is all but melanchol...</td>\n",
       "      <td>8</td>\n",
       "      <td>6914</td>\n",
       "    </tr>\n",
       "    <tr>\n",
       "      <th>19</th>\n",
       "      <td>of their project as agreed upon at this discus...</td>\n",
       "      <td>8</td>\n",
       "      <td>6914</td>\n",
       "    </tr>\n",
       "    <tr>\n",
       "      <th>27</th>\n",
       "      <td>was born and became a pillar of the church a v...</td>\n",
       "      <td>8</td>\n",
       "      <td>6914</td>\n",
       "    </tr>\n",
       "  </tbody>\n",
       "</table>\n",
       "</div>"
      ],
      "text/plain": [
       "                                                 text  author  count\n",
       "0   towards me and her little fingers round my han...       8   6914\n",
       "6   up hill and down in an lock and when it come t...       8   6914\n",
       "15  her marriage and that she is all but melanchol...       8   6914\n",
       "19  of their project as agreed upon at this discus...       8   6914\n",
       "27  was born and became a pillar of the church a v...       8   6914"
      ]
     },
     "execution_count": 9,
     "metadata": {},
     "output_type": "execute_result"
    }
   ],
   "source": [
    "author1.head()"
   ]
  },
  {
   "cell_type": "code",
   "execution_count": 10,
   "metadata": {},
   "outputs": [
    {
     "data": {
      "text/html": [
       "<div>\n",
       "<style scoped>\n",
       "    .dataframe tbody tr th:only-of-type {\n",
       "        vertical-align: middle;\n",
       "    }\n",
       "\n",
       "    .dataframe tbody tr th {\n",
       "        vertical-align: top;\n",
       "    }\n",
       "\n",
       "    .dataframe thead th {\n",
       "        text-align: right;\n",
       "    }\n",
       "</style>\n",
       "<table border=\"1\" class=\"dataframe\">\n",
       "  <thead>\n",
       "    <tr style=\"text-align: right;\">\n",
       "      <th></th>\n",
       "      <th>text</th>\n",
       "      <th>author</th>\n",
       "      <th>count</th>\n",
       "    </tr>\n",
       "  </thead>\n",
       "  <tbody>\n",
       "    <tr>\n",
       "      <th>1</th>\n",
       "      <td>would hear later the names of their lost dead ...</td>\n",
       "      <td>39</td>\n",
       "      <td>2266</td>\n",
       "    </tr>\n",
       "    <tr>\n",
       "      <th>8</th>\n",
       "      <td>man my knees as long as i but he was his bay a...</td>\n",
       "      <td>39</td>\n",
       "      <td>2266</td>\n",
       "    </tr>\n",
       "    <tr>\n",
       "      <th>10</th>\n",
       "      <td>he thought blushing beneath the of the and day...</td>\n",
       "      <td>39</td>\n",
       "      <td>2266</td>\n",
       "    </tr>\n",
       "    <tr>\n",
       "      <th>14</th>\n",
       "      <td>it is fastened by a sort of button and which c...</td>\n",
       "      <td>39</td>\n",
       "      <td>2266</td>\n",
       "    </tr>\n",
       "    <tr>\n",
       "      <th>26</th>\n",
       "      <td>with a gasp and a howl and there was only a st...</td>\n",
       "      <td>39</td>\n",
       "      <td>2266</td>\n",
       "    </tr>\n",
       "  </tbody>\n",
       "</table>\n",
       "</div>"
      ],
      "text/plain": [
       "                                                 text  author  count\n",
       "1   would hear later the names of their lost dead ...      39   2266\n",
       "8   man my knees as long as i but he was his bay a...      39   2266\n",
       "10  he thought blushing beneath the of the and day...      39   2266\n",
       "14  it is fastened by a sort of button and which c...      39   2266\n",
       "26  with a gasp and a howl and there was only a st...      39   2266"
      ]
     },
     "execution_count": 10,
     "metadata": {},
     "output_type": "execute_result"
    }
   ],
   "source": [
    "author2.head()"
   ]
  },
  {
   "cell_type": "code",
   "execution_count": 11,
   "metadata": {},
   "outputs": [
    {
     "data": {
      "text/html": [
       "<div>\n",
       "<style scoped>\n",
       "    .dataframe tbody tr th:only-of-type {\n",
       "        vertical-align: middle;\n",
       "    }\n",
       "\n",
       "    .dataframe tbody tr th {\n",
       "        vertical-align: top;\n",
       "    }\n",
       "\n",
       "    .dataframe thead th {\n",
       "        text-align: right;\n",
       "    }\n",
       "</style>\n",
       "<table border=\"1\" class=\"dataframe\">\n",
       "  <thead>\n",
       "    <tr style=\"text-align: right;\">\n",
       "      <th></th>\n",
       "      <th>text</th>\n",
       "      <th>author</th>\n",
       "      <th>count</th>\n",
       "    </tr>\n",
       "  </thead>\n",
       "  <tbody>\n",
       "    <tr>\n",
       "      <th>12</th>\n",
       "      <td>as well from tlie elegant and expensive style ...</td>\n",
       "      <td>26</td>\n",
       "      <td>4441</td>\n",
       "    </tr>\n",
       "    <tr>\n",
       "      <th>21</th>\n",
       "      <td>character but if you are not equally convinced...</td>\n",
       "      <td>26</td>\n",
       "      <td>4441</td>\n",
       "    </tr>\n",
       "    <tr>\n",
       "      <th>22</th>\n",
       "      <td>confidence that is the part of the present sys...</td>\n",
       "      <td>26</td>\n",
       "      <td>4441</td>\n",
       "    </tr>\n",
       "    <tr>\n",
       "      <th>25</th>\n",
       "      <td>relied on the liberality of his intentions the...</td>\n",
       "      <td>26</td>\n",
       "      <td>4441</td>\n",
       "    </tr>\n",
       "    <tr>\n",
       "      <th>53</th>\n",
       "      <td>fellow and does not know how to drive i will a...</td>\n",
       "      <td>26</td>\n",
       "      <td>4441</td>\n",
       "    </tr>\n",
       "  </tbody>\n",
       "</table>\n",
       "</div>"
      ],
      "text/plain": [
       "                                                 text  author  count\n",
       "12  as well from tlie elegant and expensive style ...      26   4441\n",
       "21  character but if you are not equally convinced...      26   4441\n",
       "22  confidence that is the part of the present sys...      26   4441\n",
       "25  relied on the liberality of his intentions the...      26   4441\n",
       "53  fellow and does not know how to drive i will a...      26   4441"
      ]
     },
     "execution_count": 11,
     "metadata": {},
     "output_type": "execute_result"
    }
   ],
   "source": [
    "author3.head()"
   ]
  },
  {
   "cell_type": "code",
   "execution_count": 12,
   "metadata": {},
   "outputs": [],
   "source": [
    "def get_most_common_words(text):\n",
    "#most common words the text\n",
    "\n",
    "    min_df = 1\n",
    "    max_df = 0.5\n",
    "    count_vectorizer = CountVectorizer(stop_words='english', max_df=max_df, ngram_range=(1,3), max_features=300)\n",
    "    #bag of words model minus alpha numeric characters and stop words\n",
    "    count_vectorizer.fit_transform(text)\n",
    "    #do the transform\n",
    "    print('Performing word count transform using count vectoriser min doc frequency {} %  max doc frequency {}%'\n",
    "          .format(min_df * 10, max_df*100))\n",
    "    #now we have a bag of words matrix\n",
    "    cur_word_count_vector = count_vectorizer.transform(text)\n",
    "\n",
    "    print(\"Number of words\")\n",
    "    print(cur_word_count_vector.shape)\n",
    "    print(\"Number of Ngrams in text\")\n",
    "    print(len(count_vectorizer.vocabulary_))\n",
    "    sum_words = cur_word_count_vector.sum(axis=0)\n",
    "\n",
    "    words_freq = [(word, sum_words[0, idx]) for word, idx in count_vectorizer.vocabulary_.items()]\n",
    "    words_freq =sorted(words_freq, key = lambda x: x[1], reverse=True)\n",
    "    columns = ['word', 'freq']    \n",
    "    df = pd.DataFrame(words_freq, columns=columns)\n",
    "    return df\n"
   ]
  },
  {
   "cell_type": "code",
   "execution_count": 13,
   "metadata": {},
   "outputs": [],
   "source": [
    "def visualise_word_frequency(df, category): \n",
    "    df[:20].plot(x='word', y='freq', kind='bar', title='word frequency for ' + category)"
   ]
  },
  {
   "cell_type": "code",
   "execution_count": 14,
   "metadata": {},
   "outputs": [
    {
     "name": "stdout",
     "output_type": "stream",
     "text": [
      "Performing word count transform using count vectoriser min doc frequency 10 %  max doc frequency 50.0%\n",
      "Number of words\n",
      "(5554, 300)\n",
      "Number of Ngrams in text\n",
      "300\n"
     ]
    },
    {
     "data": {
      "image/png": "[encoded data removed]",
      "text/plain": [
       "<Figure size 432x288 with 1 Axes>"
      ]
     },
     "metadata": {},
     "output_type": "display_data"
    }
   ],
   "source": [
    "words_freq = get_most_common_words(author1.text)\n",
    "authorno = author1.iloc[0].author\n",
    "visualise_word_frequency(words_freq, 'author ' + str(authorno))"
   ]
  },
  {
   "cell_type": "code",
   "execution_count": 15,
   "metadata": {},
   "outputs": [
    {
     "name": "stdout",
     "output_type": "stream",
     "text": [
      "Performing word count transform using count vectoriser min doc frequency 10 %  max doc frequency 50.0%\n",
      "Number of words\n",
      "(1813, 300)\n",
      "Number of Ngrams in text\n",
      "300\n"
     ]
    },
    {
     "data": {
      "image/png": "[encoded data removed]",
      "text/plain": [
       "<Figure size 432x288 with 1 Axes>"
      ]
     },
     "metadata": {},
     "output_type": "display_data"
    }
   ],
   "source": [
    "words_freq = get_most_common_words(author2.text)\n",
    "authorno = author2.iloc[0].author\n",
    "visualise_word_frequency(words_freq, 'author ' + str(authorno))"
   ]
  },
  {
   "cell_type": "code",
   "execution_count": 16,
   "metadata": {},
   "outputs": [
    {
     "name": "stdout",
     "output_type": "stream",
     "text": [
      "Performing word count transform using count vectoriser min doc frequency 10 %  max doc frequency 50.0%\n",
      "Number of words\n",
      "(3603, 300)\n",
      "Number of Ngrams in text\n",
      "300\n"
     ]
    },
    {
     "data": {
      "image/png": "[encoded data removed]",
      "text/plain": [
       "<Figure size 432x288 with 1 Axes>"
      ]
     },
     "metadata": {},
     "output_type": "display_data"
    }
   ],
   "source": [
    "words_freq = get_most_common_words(author3.text)\n",
    "authorno = author3.iloc[0].author\n",
    "visualise_word_frequency(words_freq, 'author ' + str(authorno))\n",
    "\n"
   ]
  },
  {
   "cell_type": "code",
   "execution_count": 17,
   "metadata": {},
   "outputs": [
    {
     "name": "stdout",
     "output_type": "stream",
     "text": [
      "Performing word count transform using count vectoriser min doc frequency 10 %  max doc frequency 50.0%\n",
      "Number of words\n",
      "(1187, 300)\n",
      "Number of Ngrams in text\n",
      "300\n"
     ]
    },
    {
     "data": {
      "image/png": "[encoded data removed]",
      "text/plain": [
       "<Figure size 432x288 with 1 Axes>"
      ]
     },
     "metadata": {},
     "output_type": "display_data"
    }
   ],
   "source": [
    "words_freq = get_most_common_words(author4.text)\n",
    "authorno = author4.iloc[0].author\n",
    "visualise_word_frequency(words_freq, 'author ' + str(authorno))"
   ]
  },
  {
   "cell_type": "code",
   "execution_count": null,
   "metadata": {},
   "outputs": [],
   "source": []
  },
  {
   "cell_type": "code",
   "execution_count": null,
   "metadata": {},
   "outputs": [],
   "source": []
  },
  {
   "cell_type": "code",
   "execution_count": null,
   "metadata": {
    "scrolled": true
   },
   "outputs": [],
   "source": []
  },
  {
   "cell_type": "code",
   "execution_count": null,
   "metadata": {},
   "outputs": [],
   "source": []
  },
  {
   "cell_type": "code",
   "execution_count": null,
   "metadata": {},
   "outputs": [],
   "source": []
  },
  {
   "cell_type": "code",
   "execution_count": null,
   "metadata": {},
   "outputs": [],
   "source": []
  },
  {
   "cell_type": "code",
   "execution_count": null,
   "metadata": {},
   "outputs": [],
   "source": [
    "\n"
   ]
  },
  {
   "cell_type": "markdown",
   "metadata": {},
   "source": []
  }
 ],
 "metadata": {
  "kernelspec": {
   "display_name": "NLP Env",
   "language": "python",
   "name": "nlp"
  },
  "language_info": {
   "codemirror_mode": {
    "name": "ipython",
    "version": 3
   },
   "file_extension": ".py",
   "mimetype": "text/x-python",
   "name": "python",
   "nbconvert_exporter": "python",
   "pygments_lexer": "ipython3",
   "version": "3.6.4"
  }
 },
 "nbformat": 4,
 "nbformat_minor": 2
}
