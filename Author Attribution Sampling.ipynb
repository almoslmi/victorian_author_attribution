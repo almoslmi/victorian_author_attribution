{
 "cells": [
  {
   "cell_type": "markdown",
   "metadata": {},
   "source": []
  },
  {
   "cell_type": "code",
   "execution_count": 1,
   "metadata": {},
   "outputs": [],
   "source": [
    "import pandas as pd\n",
    "import nltk\n",
    "import matplotlib.pyplot as plt\n",
    "import seaborn as sns\n",
    "\n",
    "import numpy as np\n",
    "\n"
   ]
  },
  {
   "cell_type": "code",
   "execution_count": 2,
   "metadata": {},
   "outputs": [],
   "source": [
    "#In order to Re-Do the sampling the perform_sampling_step needs to be set to true"
   ]
  },
  {
   "cell_type": "code",
   "execution_count": 3,
   "metadata": {},
   "outputs": [],
   "source": [
    "perform_sampling_step = True\n"
   ]
  },
  {
   "cell_type": "code",
   "execution_count": 4,
   "metadata": {},
   "outputs": [],
   "source": [
    "## Load the  dataset\n",
    "data_raw = pd.read_csv('../full_dataset/Gungor_2018_VictorianAuthorAttribution_data-train.csv', encoding=\"latin-1\")"
   ]
  },
  {
   "cell_type": "code",
   "execution_count": 5,
   "metadata": {},
   "outputs": [
    {
     "data": {
      "text/html": [
       "<div>\n",
       "<style scoped>\n",
       "    .dataframe tbody tr th:only-of-type {\n",
       "        vertical-align: middle;\n",
       "    }\n",
       "\n",
       "    .dataframe tbody tr th {\n",
       "        vertical-align: top;\n",
       "    }\n",
       "\n",
       "    .dataframe thead th {\n",
       "        text-align: right;\n",
       "    }\n",
       "</style>\n",
       "<table border=\"1\" class=\"dataframe\">\n",
       "  <thead>\n",
       "    <tr style=\"text-align: right;\">\n",
       "      <th></th>\n",
       "      <th>text</th>\n",
       "      <th>author</th>\n",
       "    </tr>\n",
       "  </thead>\n",
       "  <tbody>\n",
       "    <tr>\n",
       "      <th>0</th>\n",
       "      <td>ou have time to listen i will give you the ent...</td>\n",
       "      <td>1</td>\n",
       "    </tr>\n",
       "    <tr>\n",
       "      <th>1</th>\n",
       "      <td>wish for solitude he was twenty years of age a...</td>\n",
       "      <td>1</td>\n",
       "    </tr>\n",
       "    <tr>\n",
       "      <th>2</th>\n",
       "      <td>and the skirt blew in perfect freedom about th...</td>\n",
       "      <td>1</td>\n",
       "    </tr>\n",
       "    <tr>\n",
       "      <th>3</th>\n",
       "      <td>of san and the rows of shops opposite impresse...</td>\n",
       "      <td>1</td>\n",
       "    </tr>\n",
       "    <tr>\n",
       "      <th>4</th>\n",
       "      <td>an hour s walk was as tiresome as three in a s...</td>\n",
       "      <td>1</td>\n",
       "    </tr>\n",
       "  </tbody>\n",
       "</table>\n",
       "</div>"
      ],
      "text/plain": [
       "                                                text  author\n",
       "0  ou have time to listen i will give you the ent...       1\n",
       "1  wish for solitude he was twenty years of age a...       1\n",
       "2  and the skirt blew in perfect freedom about th...       1\n",
       "3  of san and the rows of shops opposite impresse...       1\n",
       "4  an hour s walk was as tiresome as three in a s...       1"
      ]
     },
     "execution_count": 5,
     "metadata": {},
     "output_type": "execute_result"
    }
   ],
   "source": [
    "#what is in the data\n",
    "data_raw.head()"
   ]
  },
  {
   "cell_type": "code",
   "execution_count": 6,
   "metadata": {},
   "outputs": [
    {
     "data": {
      "text/plain": [
       "(53678, 2)"
      ]
     },
     "execution_count": 6,
     "metadata": {},
     "output_type": "execute_result"
    }
   ],
   "source": [
    "data_raw.shape"
   ]
  },
  {
   "cell_type": "code",
   "execution_count": 7,
   "metadata": {},
   "outputs": [
    {
     "data": {
      "text/plain": [
       "Text(0,0.5,'Value Count')"
      ]
     },
     "execution_count": 7,
     "metadata": {},
     "output_type": "execute_result"
    },
    {
     "data": {
      "image/png": "[encoded data removed]",
      "text/plain": [
       "<Figure size 432x288 with 1 Axes>"
      ]
     },
     "metadata": {},
     "output_type": "display_data"
    }
   ],
   "source": [
    "ax = pd.value_counts(data_raw['author'].values).plot(kind=\"bar\", title='Value Counts for Authors')\n",
    "ax.set_xlabel(\"Author Id\")\n",
    "ax.set_ylabel(\"Value Count\")"
   ]
  },
  {
   "cell_type": "code",
   "execution_count": 8,
   "metadata": {},
   "outputs": [
    {
     "data": {
      "text/plain": [
       "'ou have time to listen i will give you the entire story he said it may form the basis of a future novel and prove quite as interesting as one of your own invention i had the time to listen of course one has time for anything and everything agreeable '"
      ]
     },
     "execution_count": 8,
     "metadata": {},
     "output_type": "execute_result"
    }
   ],
   "source": [
    "data_raw['text'][0][:250]"
   ]
  },
  {
   "cell_type": "code",
   "execution_count": 9,
   "metadata": {},
   "outputs": [],
   "source": [
    "#this is a 50 class classification problem to make it possible to work on a subset of the data\n",
    "#I am removing all but the top 12 authors\n",
    "\n",
    "\n",
    "#df.drop(df[df.author == 8].index, inplace=True)\n",
    "#df_main = df.nlargest(30000, 'count')\n",
    "#df.groupby('author').apply(pd.DataFrame.sample, frac=0.5).reset_index(drop=True)"
   ]
  },
  {
   "cell_type": "code",
   "execution_count": 10,
   "metadata": {},
   "outputs": [],
   "source": [
    "def performSampling(d_raw):\n",
    "    \n",
    "    df = d_raw.copy()\n",
    "    df['count'] = df.groupby('author').transform('count')\n",
    "\n",
    "    temp = df.groupby(['author']).size().reset_index(name='count')\n",
    "\n",
    "    main_authors = temp.nlargest(12, 'count')\n",
    "    main_authors.sort_values(by=['count'])\n",
    "    top = main_authors.nlargest(12, 'count')\n",
    "    samples = top['author'].values.tolist()\n",
    "    \n",
    "    df_sample = df[df.author.isin(samples)]\n",
    "    df_train=df_sample.sample(frac=0.8,random_state=200)\n",
    "    df_test=df_sample.drop(df_train.index)\n",
    "    \n",
    "    print(\"Number of Unique Authors in raw data\")\n",
    "    print(d_raw['author'].nunique())\n",
    "    print(\"Number of Records in raw data\")\n",
    "    print(d_raw.shape)\n",
    "    print(\"Number of Unique Authors in sample\")\n",
    "    print(df_sample['author'].nunique())\n",
    "    print(\"Size of Sample\")\n",
    "    print(df_sample.shape)\n",
    "    print(\"Size of Test\")\n",
    "    print(df_test.shape)\n",
    "    print(\"Size of Train\")\n",
    "    print(df_train.shape)\n",
    "    \n",
    "    file_name = '../temp/victorian_author_sample_main_authors_train1.csv'\n",
    "    test_file_name = '../temp/victorian_author_sample_main_authors_test1.csv'\n",
    "    df_train.to_csv(file_name, encoding='utf-8', index=False)\n",
    "    df_test.to_csv(test_file_name, encoding='utf-8', index=False)\n",
    "    \n",
    "    data = pd.read_csv(file_name, encoding=\"utf-8\")\n",
    "    \n",
    "    ax = pd.value_counts(df_train['author'].values).plot(kind=\"bar\", title='Value Counts for Authors')\n",
    "    ax.set_xlabel(\"Author Id\")\n",
    "    ax.set_ylabel(\"Value Count\")\n",
    "    \n",
    "    print(\"Values in test set\")\n",
    "    print(pd.value_counts(df_test['author'].values))\n",
    "    \n",
    "    \n",
    "\n",
    "\n",
    "\n",
    "    "
   ]
  },
  {
   "cell_type": "code",
   "execution_count": 11,
   "metadata": {},
   "outputs": [
    {
     "name": "stdout",
     "output_type": "stream",
     "text": [
      "Number of Unique Authors in raw data\n",
      "45\n",
      "Number of Records in raw data\n",
      "(53678, 2)\n",
      "Number of Unique Authors in sample\n",
      "12\n",
      "Size of Sample\n",
      "(31376, 3)\n",
      "Size of Test\n",
      "(6275, 3)\n",
      "Size of Train\n",
      "(25101, 3)\n",
      "Values in test set\n",
      "8     1360\n",
      "26     838\n",
      "14     538\n",
      "37     497\n",
      "21     491\n",
      "45     466\n",
      "39     453\n",
      "48     381\n",
      "33     354\n",
      "19     314\n",
      "4      310\n",
      "15     273\n",
      "dtype: int64\n"
     ]
    },
    {
     "data": {
      "image/png": "[encoded data removed]",
      "text/plain": [
       "<Figure size 432x288 with 1 Axes>"
      ]
     },
     "metadata": {},
     "output_type": "display_data"
    }
   ],
   "source": [
    "if (perform_sampling_step == True) :\n",
    "    performSampling(data_raw)"
   ]
  },
  {
   "cell_type": "markdown",
   "metadata": {},
   "source": []
  },
  {
   "cell_type": "code",
   "execution_count": null,
   "metadata": {},
   "outputs": [],
   "source": []
  },
  {
   "cell_type": "code",
   "execution_count": null,
   "metadata": {},
   "outputs": [],
   "source": []
  },
  {
   "cell_type": "code",
   "execution_count": null,
   "metadata": {},
   "outputs": [],
   "source": []
  },
  {
   "cell_type": "code",
   "execution_count": null,
   "metadata": {},
   "outputs": [],
   "source": []
  },
  {
   "cell_type": "code",
   "execution_count": null,
   "metadata": {},
   "outputs": [],
   "source": []
  },
  {
   "cell_type": "code",
   "execution_count": null,
   "metadata": {},
   "outputs": [],
   "source": []
  },
  {
   "cell_type": "code",
   "execution_count": null,
   "metadata": {},
   "outputs": [],
   "source": []
  },
  {
   "cell_type": "code",
   "execution_count": null,
   "metadata": {
    "scrolled": true
   },
   "outputs": [],
   "source": []
  },
  {
   "cell_type": "code",
   "execution_count": null,
   "metadata": {},
   "outputs": [],
   "source": [
    "\n"
   ]
  },
  {
   "cell_type": "markdown",
   "metadata": {},
   "source": []
  }
 ],
 "metadata": {
  "kernelspec": {
   "display_name": "NLP Env",
   "language": "python",
   "name": "nlp"
  },
  "language_info": {
   "codemirror_mode": {
    "name": "ipython",
    "version": 3
   },
   "file_extension": ".py",
   "mimetype": "text/x-python",
   "name": "python",
   "nbconvert_exporter": "python",
   "pygments_lexer": "ipython3",
   "version": "3.6.4"
  }
 },
 "nbformat": 4,
 "nbformat_minor": 2
}
